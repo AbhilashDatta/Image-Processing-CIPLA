{
 "cells": [
  {
   "cell_type": "code",
   "execution_count": 22,
   "metadata": {},
   "outputs": [],
   "source": [
    "import cv2, time\n",
    "\n",
    "video = cv2.VideoCapture(0)\n",
    "first_frame = None\n",
    "count = 0\n",
    "\n",
    "while True:    \n",
    "    check, frame = video.read()\n",
    "    gray = cv2.cvtColor(frame, cv2.COLOR_BGR2GRAY)\n",
    "    gray = cv2.GaussianBlur(gray, (21,21), 0)\n",
    "    \n",
    "    if first_frame is None :\n",
    "        first_frame = gray\n",
    "        continue\n",
    "    \n",
    "    delta_frame = cv2.absdiff(first_frame,gray)\n",
    "    threshold_frame = cv2.threshold(delta_frame,50,255,cv2.THRESH_BINARY)[1]\n",
    "    threshold_frame = cv2.dilate(threshold_frame, None, iterations = 2)\n",
    "    \n",
    "    (cntr,_) = cv2.findContours(threshold_frame.copy(), cv2.RETR_EXTERNAL, cv2.CHAIN_APPROX_SIMPLE)\n",
    "    \n",
    "    for cnt in cntr:\n",
    "        if cv2.contourArea(cnt)<1000:\n",
    "            continue\n",
    "        (x,y,w,h) = cv2.boundingRect(cnt)\n",
    "        cv2.rectangle(frame, (x,y),(x+w,y+h), (0,255,0),3)\n",
    "        \n",
    "    cv2.imshow('Motion Detection', frame)\n",
    "    \n",
    "    if cv2.waitKey(1)==ord('q'):\n",
    "        break\n",
    "        \n",
    "video.release()\n",
    "cv2.destroyAllWindows()"
   ]
  },
  {
   "cell_type": "code",
   "execution_count": null,
   "metadata": {},
   "outputs": [],
   "source": []
  }
 ],
 "metadata": {
  "kernelspec": {
   "display_name": "Python 3",
   "language": "python",
   "name": "python3"
  },
  "language_info": {
   "codemirror_mode": {
    "name": "ipython",
    "version": 3
   },
   "file_extension": ".py",
   "mimetype": "text/x-python",
   "name": "python",
   "nbconvert_exporter": "python",
   "pygments_lexer": "ipython3",
   "version": "3.7.4"
  }
 },
 "nbformat": 4,
 "nbformat_minor": 2
}
