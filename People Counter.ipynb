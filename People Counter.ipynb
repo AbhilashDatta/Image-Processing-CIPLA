{
 "cells": [
  {
   "cell_type": "code",
   "execution_count": 1,
   "metadata": {},
   "outputs": [],
   "source": [
    "import cv2\n",
    "import mediapipe as mp\n",
    "import numpy as np\n",
    "mp_drawing = mp.solutions.drawing_utils\n",
    "mp_pose = mp.solutions.pose"
   ]
  },
  {
   "cell_type": "code",
   "execution_count": 2,
   "metadata": {},
   "outputs": [
    {
     "name": "stdout",
     "output_type": "stream",
     "text": [
      "(480, 640, 3)\n"
     ]
    }
   ],
   "source": []
  },
  {
   "cell_type": "code",
   "execution_count": 3,
   "metadata": {},
   "outputs": [],
   "source": [
    "import cv2, imutils\n",
    "import numpy as np\n",
    "from imutils.object_detection import non_max_suppression\n",
    "\n",
    "HOGCV = cv2.HOGDescriptor()\n",
    "HOGCV.setSVMDetector(cv2.HOGDescriptor_getDefaultPeopleDetector())\n",
    "\n",
    "def Detector(frame):\n",
    "    rects, weights = HOGCV.detectMultiScale(frame, winStride=(4,4), padding=(8,8), scale=1.03)\n",
    "    rects = np.array([[x,y,x+w,y+h] for x,y,w,h, in rects])\n",
    "    pick = non_max_suppression(rects, probs=None, overlapThresh=0.9)\n",
    "    c = 1\n",
    "    for x,y,w,h in pick:\n",
    "        cv2.rectangle(frame, (x,y), (w,h), (0,0,255), 2)\n",
    "        cv2.rectangle(frame, (x,y-20), (w,y), (0,0,255), -1)\n",
    "        cv2.putText(frame, f'P{c}', (x,y), cv2.FONT_HERSHEY_SIMPLEX, 0.6, (255,255,255),2)\n",
    "        c +=1 \n",
    "    \n",
    "    cv2.rectangle(frame, (15,400), (300,450), (245,117,16), -1)\n",
    "    cv2.putText(frame, f'Total Persons: {c-1}', (20,430), cv2.FONT_HERSHEY_DUPLEX, 0.8, (255,255,255),2)\n",
    "    cv2.imshow('Output', frame)\n",
    "    return frame"
   ]
  },
  {
   "cell_type": "code",
   "execution_count": 4,
   "metadata": {},
   "outputs": [],
   "source": [
    "def rescale_frame(frame, percent=75):\n",
    "    width = int(frame.shape[1]*percent/100)\n",
    "    height = int(frame.shape[0]*percent/100)\n",
    "    dim = (width, height)\n",
    "    return cv2.resize(frame, dim, interpolation = cv2.INTER_AREA)"
   ]
  },
  {
   "cell_type": "code",
   "execution_count": 80,
   "metadata": {},
   "outputs": [],
   "source": [
    "cap = cv2.VideoCapture('Downloads/sitting1.mp4')\n",
    "while True:\n",
    "    ret, frame = cap.read()\n",
    "    frame = imutils.resize(frame, width=900)\n",
    "    frame = Detector(frame)\n",
    "    k = cv2.waitKey(30) & 0xff\n",
    "    if k==27:\n",
    "        break\n",
    "        \n",
    "cv2.destroyAllWindows()"
   ]
  },
  {
   "cell_type": "code",
   "execution_count": 5,
   "metadata": {},
   "outputs": [],
   "source": [
    "image = cv2.imread('Downloads/peds.jpg')\n",
    "image = imutils.resize(image, width=800)\n",
    "image = Detector(image)\n",
    "cv2.waitKey(0)\n",
    "cv2.destroyAllWindows()"
   ]
  },
  {
   "cell_type": "code",
   "execution_count": null,
   "metadata": {},
   "outputs": [],
   "source": []
  }
 ],
 "metadata": {
  "kernelspec": {
   "display_name": "Python 3",
   "language": "python",
   "name": "python3"
  },
  "language_info": {
   "codemirror_mode": {
    "name": "ipython",
    "version": 3
   },
   "file_extension": ".py",
   "mimetype": "text/x-python",
   "name": "python",
   "nbconvert_exporter": "python",
   "pygments_lexer": "ipython3",
   "version": "3.7.4"
  }
 },
 "nbformat": 4,
 "nbformat_minor": 2
}
