{
 "cells": [
  {
   "cell_type": "code",
   "execution_count": 4,
   "metadata": {},
   "outputs": [],
   "source": [
    "threshold = 40\n",
    "video_feed = 0 # change this with path of video (currently set to WebCam)\n",
    "\n",
    "\n",
    "import cv2\n",
    "import mediapipe as mp\n",
    "import numpy as np\n",
    "mp_drawing = mp.solutions.drawing_utils\n",
    "mp_pose = mp.solutions.pose\n",
    "\n",
    "face_cascade = cv2.CascadeClassifier('Downloads/haarcascade_frontalface_default.xml')\n",
    "eye_cascade = cv2.CascadeClassifier('Downloads/haarcascade_eye_tree_eyeglasses.xml')\n",
    "cap = cv2.VideoCapture(video_feed)\n",
    "\n",
    "while cap.isOpened():\n",
    "    \n",
    "    _ , img = cap.read()\n",
    "    stage = \"No Eyes\"\n",
    "    \n",
    "    pose = mp_pose.Pose(min_detection_confidence=0.5, min_tracking_confidence=0.5)\n",
    "    img = cv2.cvtColor(img, cv2.COLOR_BGR2RGB)\n",
    "    img.flags.writeable = False\n",
    "    results = pose.process(img)\n",
    "    img.flags.writeable = True\n",
    "    img = cv2.cvtColor(img, cv2.COLOR_RGB2BGR)\n",
    "        \n",
    "    try:\n",
    "        landmarks = results.pose_landmarks.landmark\n",
    "        nose = [landmarks[mp_pose.PoseLandmark.NOSE.value].x,landmarks[mp_pose.PoseLandmark.NOSE.value].y]\n",
    "#         print(nose)\n",
    "        gray = cv2.cvtColor(img, cv2.COLOR_BGR2GRAY)\n",
    "        eyes = eye_cascade.detectMultiScale(gray)\n",
    "#         print(eyes)\n",
    "        \n",
    "        for ex,ey,ew,eh in eyes:\n",
    "            if((ex/100-nose[0])**2+(ey/100-nose[1])**2 > threshold):\n",
    "                continue\n",
    "            cv2.rectangle(img, (ex,ey), (ex+ew,ey+eh),(0,255,0), 5)\n",
    "            stage = \"Eye Detected\"\n",
    "    \n",
    "    except:\n",
    "        pass\n",
    "    \n",
    "    cv2.rectangle(img, (0,0), (400,80), (245,117,16), -1)\n",
    "         \n",
    "    cv2.putText(img, 'STATUS', (100,12), \n",
    "                cv2.FONT_HERSHEY_SIMPLEX, 0.5, (0,0,0), 1, cv2.LINE_AA)\n",
    "    cv2.putText(img, stage, \n",
    "                (50,50), \n",
    "                cv2.FONT_HERSHEY_SIMPLEX, 1.5, (255,255,255), 2, cv2.LINE_AA)\n",
    "    \n",
    "    cv2.imshow('Eye Detector',img)\n",
    "    if cv2.waitKey(10) & 0xFF == ord('q'):\n",
    "        break\n",
    "                      \n",
    "cap.release()\n",
    "cv2.destroyAllWindows()"
   ]
  },
  {
   "cell_type": "code",
   "execution_count": null,
   "metadata": {},
   "outputs": [],
   "source": []
  }
 ],
 "metadata": {
  "kernelspec": {
   "display_name": "Python 3",
   "language": "python",
   "name": "python3"
  },
  "language_info": {
   "codemirror_mode": {
    "name": "ipython",
    "version": 3
   },
   "file_extension": ".py",
   "mimetype": "text/x-python",
   "name": "python",
   "nbconvert_exporter": "python",
   "pygments_lexer": "ipython3",
   "version": "3.7.4"
  }
 },
 "nbformat": 4,
 "nbformat_minor": 2
}
